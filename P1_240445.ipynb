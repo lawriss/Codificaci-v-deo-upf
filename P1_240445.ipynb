{
  "nbformat": 4,
  "nbformat_minor": 0,
  "metadata": {
    "colab": {
      "provenance": []
    },
    "kernelspec": {
      "name": "python3",
      "display_name": "Python 3"
    },
    "language_info": {
      "name": "python"
    }
  },
  "cells": [
    {
      "cell_type": "markdown",
      "source": [
        "# Video: P1 - JPEG & MPEG\n"
      ],
      "metadata": {
        "id": "xYGdZa0qRd1Z"
      }
    },
    {
      "cell_type": "markdown",
      "source": [
        "Laura Ruiz Soler\n",
        "\n",
        "NIA: 240445\n",
        "\n",
        "laura.ruiz17@estudiant.upf.edu"
      ],
      "metadata": {
        "id": "wCArIv6uRjeU"
      }
    },
    {
      "cell_type": "code",
      "source": [
        "import numpy as np"
      ],
      "metadata": {
        "id": "1LAd9YHbk75Y"
      },
      "execution_count": 63,
      "outputs": []
    },
    {
      "cell_type": "code",
      "source": [
        "# TASK 1\n",
        "# Create a translator from 3 values in RGB into the 3 YUV values, plus the opposite operation.\n",
        "# You can choose the 3 values, or open them from a text file, receive it from command line… feel free.\n",
        "# Put it in a method.\n",
        "\n",
        "def rgb_to_yuv(r,g,b):\n",
        "  y = 0.299*r + 0.587*g + 0.114*b\n",
        "  u = 0.492*(b-y)\n",
        "  v = 0.877*(r-y)\n",
        "  return (y,u,v)\n",
        "\n",
        "def yuv_to_rgb(y,u,v):\n",
        "  r = y + 1.140*v\n",
        "  g = y - 0.395*u - 0.581*v\n",
        "  b = y + 2.032*u\n",
        "  return (r,g,b)\n",
        "\n",
        "\n",
        "# TESTING TASK 1\n",
        "c = [0.2,0.4,0.6]\n",
        "(y,u,v) = rgb_to_yuv(c[0], c[1], c[2])\n",
        "print(\"(Y,U,V) = \",y,u,v)\n",
        "(r,g,b) = yuv_to_rgb(y,u,v)\n",
        "print(\"(R,G,B) = \",r,g,b)"
      ],
      "metadata": {
        "id": "7K5EhqbKdnRp",
        "colab": {
          "base_uri": "https://localhost:8080/"
        },
        "outputId": "4e9446cf-4c0f-4428-dd50-f925eba81f76"
      },
      "execution_count": null,
      "outputs": [
        {
          "output_type": "stream",
          "name": "stdout",
          "text": [
            "(Y,U,V) =  0.36300000000000004 0.11660399999999997 -0.14295100000000002\n",
            "(R,G,B) =  0.20003586000000004 0.399995951 0.599939328\n"
          ]
        }
      ]
    },
    {
      "cell_type": "code",
      "source": [
        "# TASK 2\n",
        "# Use ffmpeg to resize images into lower quality. Use any image you like\n",
        "# Now, create a method in previous script to automatise this order.\n",
        "\n",
        "# We install ffmpeg\n",
        "!apt-get install ffmpeg\n",
        "\n",
        "def resize_and_reduce_quality(input_image, output_image, width, height, quality):\n",
        "  ffmpeg_command = f'ffmpeg -i {input_image} -vf \"scale={new_width}:{new_height}\" -q:v {quality} {output_image}'\n",
        "  !{ffmpeg_command}\n",
        "\n",
        "\n",
        "# TESTING TASK 2\n",
        "input_image = '/content/sea.JPG' # original size: 5472 × 3072\n",
        "output_image = '/content/task2_im.jpg' #will have\n",
        "new_width = 547\n",
        "new_height = 307\n",
        "quality = 5\n",
        "resize_and_reduce_quality(input_image, output_image, new_width, new_height, quality)"
      ],
      "metadata": {
        "colab": {
          "base_uri": "https://localhost:8080/"
        },
        "id": "yZS8nsbqpFhy",
        "outputId": "8f00e40f-2a0d-48f8-e890-a7f82187c36a"
      },
      "execution_count": 66,
      "outputs": [
        {
          "output_type": "stream",
          "name": "stdout",
          "text": [
            "Reading package lists... Done\n",
            "Building dependency tree... Done\n",
            "Reading state information... Done\n",
            "ffmpeg is already the newest version (7:4.4.2-0ubuntu0.22.04.1).\n",
            "0 upgraded, 0 newly installed, 0 to remove and 19 not upgraded.\n",
            "ffmpeg version 4.4.2-0ubuntu0.22.04.1 Copyright (c) 2000-2021 the FFmpeg developers\n",
            "  built with gcc 11 (Ubuntu 11.2.0-19ubuntu1)\n",
            "  configuration: --prefix=/usr --extra-version=0ubuntu0.22.04.1 --toolchain=hardened --libdir=/usr/lib/x86_64-linux-gnu --incdir=/usr/include/x86_64-linux-gnu --arch=amd64 --enable-gpl --disable-stripping --enable-gnutls --enable-ladspa --enable-libaom --enable-libass --enable-libbluray --enable-libbs2b --enable-libcaca --enable-libcdio --enable-libcodec2 --enable-libdav1d --enable-libflite --enable-libfontconfig --enable-libfreetype --enable-libfribidi --enable-libgme --enable-libgsm --enable-libjack --enable-libmp3lame --enable-libmysofa --enable-libopenjpeg --enable-libopenmpt --enable-libopus --enable-libpulse --enable-librabbitmq --enable-librubberband --enable-libshine --enable-libsnappy --enable-libsoxr --enable-libspeex --enable-libsrt --enable-libssh --enable-libtheora --enable-libtwolame --enable-libvidstab --enable-libvorbis --enable-libvpx --enable-libwebp --enable-libx265 --enable-libxml2 --enable-libxvid --enable-libzimg --enable-libzmq --enable-libzvbi --enable-lv2 --enable-omx --enable-openal --enable-opencl --enable-opengl --enable-sdl2 --enable-pocketsphinx --enable-librsvg --enable-libmfx --enable-libdc1394 --enable-libdrm --enable-libiec61883 --enable-chromaprint --enable-frei0r --enable-libx264 --enable-shared\n",
            "  libavutil      56. 70.100 / 56. 70.100\n",
            "  libavcodec     58.134.100 / 58.134.100\n",
            "  libavformat    58. 76.100 / 58. 76.100\n",
            "  libavdevice    58. 13.100 / 58. 13.100\n",
            "  libavfilter     7.110.100 /  7.110.100\n",
            "  libswscale      5.  9.100 /  5.  9.100\n",
            "  libswresample   3.  9.100 /  3.  9.100\n",
            "  libpostproc    55.  9.100 / 55.  9.100\n",
            "Input #0, image2, from '/content/sea.JPG':\n",
            "  Duration: 00:00:00.04, start: 0.000000, bitrate: 1081294 kb/s\n",
            "  Stream #0:0: Video: mjpeg (Baseline), yuvj422p(pc, bt470bg/unknown/unknown), 5472x3072, 25 fps, 25 tbr, 25 tbn, 25 tbc\n",
            "File '/content/task2_im.jpg' already exists. Overwrite? [y/N] ^C\n"
          ]
        }
      ]
    },
    {
      "cell_type": "code",
      "source": [
        "# TASK 3\n",
        "# Create a method called serpentine which should be able to read the bytes of a JPEG file in the serpentine way we saw.\n",
        "def serpentine(w,h,m):\n",
        "  output = []\n",
        "  i=0\n",
        "  j=0\n",
        "  output.append(m[j,i])\n",
        "\n",
        "  while (i!=w-1 and j!=h-1):\n",
        "    if (j==0):\n",
        "      if (i+1<w):\n",
        "        i+=1\n",
        "      output.append(m[j,i])\n",
        "      while (i!=0):\n",
        "        i-=1\n",
        "        j+=1\n",
        "        output.append(m[j,i])\n",
        "    if (i==0):\n",
        "      if (j+1<h):\n",
        "        j+=1\n",
        "      output.append(m[j,i])\n",
        "      while (j!=0):\n",
        "        i+=1\n",
        "        j-=1\n",
        "        output.append(m[j,i])\n",
        "\n",
        "  while(i!=w-1 or j!=h-1):\n",
        "    j+=1\n",
        "    output.append(m[j,i])\n",
        "    while(j<h-1):\n",
        "        i-=1\n",
        "        j+=1\n",
        "        output.append(m[j,i])\n",
        "    i+=1\n",
        "    output.append(m[j,i])\n",
        "    if (i==w-1 and j==h-1):\n",
        "      break;\n",
        "    while(i<w-1):\n",
        "      j-=1\n",
        "      i+=1\n",
        "      output.append(m[j,i])\n",
        "\n",
        "  return output\n",
        "\n",
        "\n",
        "# TESTING TASK 3\n",
        "# *It only works for square matrices!!\n",
        "\n",
        "w,h = 3,3 # We set the size of the matrix\n",
        "m = np.zeros((w,h)) # Create the matrix\n",
        "a=0\n",
        "for i in range(0,h): # Generate a matrix with ascendent sorted numbers in order to see at the end more easily the serpentine effect\n",
        "  for j in range(0,w):\n",
        "    m[i,j]=a\n",
        "    a+=1\n",
        "print(\"Original matrix: \\n\", m)\n",
        "o = serpentine(w,h,m)\n",
        "print(\"\\nSerpentine reading: \\n\", o)"
      ],
      "metadata": {
        "id": "vtpZNFZ-n-5Y",
        "colab": {
          "base_uri": "https://localhost:8080/"
        },
        "outputId": "9ae9ef24-f703-459c-e089-3c459f5b0da9"
      },
      "execution_count": null,
      "outputs": [
        {
          "output_type": "stream",
          "name": "stdout",
          "text": [
            "Original matrix: \n",
            " [[0. 1. 2.]\n",
            " [3. 4. 5.]\n",
            " [6. 7. 8.]]\n",
            "\n",
            "Serpentine reading: \n",
            " [0.0, 1.0, 3.0, 6.0, 4.0, 2.0, 5.0, 7.0, 8.0]\n"
          ]
        }
      ]
    },
    {
      "cell_type": "code",
      "source": [
        "# TASK 4\n",
        "# Use FFMPEG to transform the previous image into b/w. Do the hardest compression you can.\n",
        "# Add everything into a new method and comment the results\n",
        "\n",
        "def compress_b_w(input_image, output_image, width, height, quality):\n",
        "  ffmpeg_command = f'ffmpeg -i {input_image} -vf \"format=gray\" -q:v 1 {output_image}'\n",
        "  !{ffmpeg_command}\n",
        "\n",
        "# TESTING TASK 4\n",
        "input_image = '/content/task2_im.jpg'\n",
        "output_image = '/content/task4_im.jpg'\n",
        "\n",
        "compress_b_w(input_image, output_image, new_width, new_height, quality)"
      ],
      "metadata": {
        "colab": {
          "base_uri": "https://localhost:8080/"
        },
        "id": "IfUFpiwyxe6F",
        "outputId": "9ded426a-6860-4c23-e9e1-3d57a4fcbb9e"
      },
      "execution_count": 70,
      "outputs": [
        {
          "output_type": "stream",
          "name": "stdout",
          "text": [
            "ffmpeg version 4.4.2-0ubuntu0.22.04.1 Copyright (c) 2000-2021 the FFmpeg developers\n",
            "  built with gcc 11 (Ubuntu 11.2.0-19ubuntu1)\n",
            "  configuration: --prefix=/usr --extra-version=0ubuntu0.22.04.1 --toolchain=hardened --libdir=/usr/lib/x86_64-linux-gnu --incdir=/usr/include/x86_64-linux-gnu --arch=amd64 --enable-gpl --disable-stripping --enable-gnutls --enable-ladspa --enable-libaom --enable-libass --enable-libbluray --enable-libbs2b --enable-libcaca --enable-libcdio --enable-libcodec2 --enable-libdav1d --enable-libflite --enable-libfontconfig --enable-libfreetype --enable-libfribidi --enable-libgme --enable-libgsm --enable-libjack --enable-libmp3lame --enable-libmysofa --enable-libopenjpeg --enable-libopenmpt --enable-libopus --enable-libpulse --enable-librabbitmq --enable-librubberband --enable-libshine --enable-libsnappy --enable-libsoxr --enable-libspeex --enable-libsrt --enable-libssh --enable-libtheora --enable-libtwolame --enable-libvidstab --enable-libvorbis --enable-libvpx --enable-libwebp --enable-libx265 --enable-libxml2 --enable-libxvid --enable-libzimg --enable-libzmq --enable-libzvbi --enable-lv2 --enable-omx --enable-openal --enable-opencl --enable-opengl --enable-sdl2 --enable-pocketsphinx --enable-librsvg --enable-libmfx --enable-libdc1394 --enable-libdrm --enable-libiec61883 --enable-chromaprint --enable-frei0r --enable-libx264 --enable-shared\n",
            "  libavutil      56. 70.100 / 56. 70.100\n",
            "  libavcodec     58.134.100 / 58.134.100\n",
            "  libavformat    58. 76.100 / 58. 76.100\n",
            "  libavdevice    58. 13.100 / 58. 13.100\n",
            "  libavfilter     7.110.100 /  7.110.100\n",
            "  libswscale      5.  9.100 /  5.  9.100\n",
            "  libswresample   3.  9.100 /  3.  9.100\n",
            "  libpostproc    55.  9.100 / 55.  9.100\n",
            "Input #0, image2, from '/content/task2_im.jpg':\n",
            "  Duration: 00:00:00.04, start: 0.000000, bitrate: 6372 kb/s\n",
            "  Stream #0:0: Video: mjpeg (Baseline), yuvj422p(pc, bt470bg/unknown/unknown), 547x307, 25 fps, 25 tbr, 25 tbn, 25 tbc\n",
            "File '/content/task4_im.jpg' already exists. Overwrite? [y/N] y\n",
            "Stream mapping:\n",
            "  Stream #0:0 -> #0:0 (mjpeg (native) -> mjpeg (native))\n",
            "Press [q] to stop, [?] for help\n",
            "\u001b[1;34m[swscaler @ 0x5b3cff959500] \u001b[0m\u001b[0;33mdeprecated pixel format used, make sure you did set range correctly\n",
            "\u001b[0m\u001b[1;34m[swscaler @ 0x5b3cff96ef40] \u001b[0m\u001b[0;33mdeprecated pixel format used, make sure you did set range correctly\n",
            "\u001b[0mOutput #0, image2, to '/content/task4_im.jpg':\n",
            "  Metadata:\n",
            "    encoder         : Lavf58.76.100\n",
            "  Stream #0:0: Video: mjpeg, yuvj444p(pc, bt470bg/unknown/unknown, progressive), 547x307, q=2-31, 200 kb/s, 25 fps, 25 tbn\n",
            "    Metadata:\n",
            "      encoder         : Lavc58.134.100 mjpeg\n",
            "    Side data:\n",
            "      cpb: bitrate max/min/avg: 0/0/200000 buffer size: 0 vbv_delay: N/A\n",
            "frame=    1 fps=0.0 q=1.0 Lsize=N/A time=00:00:00.04 bitrate=N/A speed=5.39x    \n",
            "video:34kB audio:0kB subtitle:0kB other streams:0kB global headers:0kB muxing overhead: unknown\n"
          ]
        }
      ]
    },
    {
      "cell_type": "markdown",
      "source": [
        "With the \"format=gray\" parameter, we transform our image into black and white. Then, with the \"video-quality\" parameter (q:v) we set the lowest value, which is 1. For the image created on task 2, we set this value to 5, and now we reduced to 1. We can see as a consequence, that the quality of our new image is reduced, having more artifacts, because the information it contains is more compressed, so we cannot see smaller details."
      ],
      "metadata": {
        "id": "I2pHHe8OaS_Y"
      }
    },
    {
      "cell_type": "code",
      "source": [
        "# TASK 5\n",
        "# Create a method which applies a run-lenght encoding from a series of bytes given.\n",
        "\n",
        "def run_len_encoding(input):\n",
        "  output = []\n",
        "  matches = 0\n",
        "  current_byte = input[0]\n",
        "\n",
        "  for i in input:\n",
        "    if (i==current_byte):\n",
        "      matches+=1\n",
        "    else:\n",
        "      output.append(current_byte)\n",
        "      output.append(matches)\n",
        "      current_byte = i\n",
        "      matches = 1\n",
        "\n",
        "  output.append(current_byte)\n",
        "  output.append(matches)\n",
        "  return output\n",
        "\n",
        "# TESTING TASK 5\n",
        "input_bytes = 'LLAAAURRAA'\n",
        "encoded_bytes = run_len_encoding(input_bytes)\n",
        "print(encoded_bytes)"
      ],
      "metadata": {
        "id": "MtHPPyDK12ga",
        "colab": {
          "base_uri": "https://localhost:8080/"
        },
        "outputId": "5dbce31b-cdad-4f6b-a3fc-ba317b84d8cb"
      },
      "execution_count": null,
      "outputs": [
        {
          "output_type": "stream",
          "name": "stdout",
          "text": [
            "['L', 2, 'A', 3, 'U', 1, 'R', 2, 'A', 2]\n"
          ]
        }
      ]
    },
    {
      "cell_type": "code",
      "source": [
        "# TASK 6\n",
        "# Create a class which can convert, can decode (or both) an input using the DCT. Not necessary a\n",
        "# JPG encoder or decoder. A class only about DCT is OK too\n",
        "\n",
        "class dct_conversion:\n",
        "\n",
        "    # general formula (obatined from class' slides, but for general square matrices, of size NxN)\n",
        "    def dct(input):\n",
        "      N = np.size(input, axis=0)\n",
        "      output = np.zeros((N, N))\n",
        "\n",
        "      for u in range(N):\n",
        "        for v in range(N):\n",
        "          sum=0\n",
        "          if u==0:\n",
        "            alpha1 = np.sqrt(1/N)\n",
        "          else:\n",
        "            alpha1 = np.sqrt(2/N)\n",
        "\n",
        "          if v==0:\n",
        "            alpha2 = np.sqrt(1/N)\n",
        "          else:\n",
        "            alpha2 = np.sqrt(2/N)\n",
        "\n",
        "          for x in range(N-1):\n",
        "            for y in range(N-1):\n",
        "              sum += input[x,y]*np.cos((np.pi/N)*(x+0.5)*u)*np.cos((np.pi/N)*(y+0.5)*v)\n",
        "\n",
        "          total = alpha1*alpha2*sum\n",
        "          output[u,v]=total\n",
        "      return output\n",
        "\n",
        "    def encode(self, input_data):\n",
        "        # Apply DCT encoding to the input data\n",
        "        return self.dct2(input_data)\n",
        "\n",
        "    def decode(self, encoded_data):\n",
        "        # Apply inverse DCT decoding to the encoded data\n",
        "        return self.idct2(encoded_data)\n",
        "\n",
        "\n",
        "# TESTING TASK 6\n",
        "input_data = np.array([\n",
        "        [255, 128, 128, 255],\n",
        "        [255, 255, 255, 255],\n",
        "        [255, 128, 128, 255],\n",
        "        [255, 128, 128, 255]\n",
        "    ], dtype=np.float32)\n",
        "\n",
        "converted_data = dct_conversion.dct(input_data)\n",
        "print(converted_data)\n"
      ],
      "metadata": {
        "colab": {
          "base_uri": "https://localhost:8080/"
        },
        "id": "O_h8Ka7hg9fL",
        "outputId": "56513c4e-9aeb-4f3c-fc81-3e612614b3d4"
      },
      "execution_count": null,
      "outputs": [
        {
          "output_type": "stream",
          "name": "stdout",
          "text": [
            "[[ 446.75        249.88016703  -64.25        103.50375415]\n",
            " [ 201.27937112  108.8280573   -34.6925931    45.0780573 ]\n",
            " [-191.25        -83.29338901   63.75        -34.50125138]\n",
            " [ -13.82894648   45.0780573    82.83144924   18.6719427 ]]\n"
          ]
        }
      ]
    }
  ]
}